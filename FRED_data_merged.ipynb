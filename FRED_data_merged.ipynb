{
 "cells": [
  {
   "cell_type": "code",
   "execution_count": 2,
   "id": "6b279009",
   "metadata": {},
   "outputs": [],
   "source": [
    "# Dependencies\n",
    "\n",
    "import pandas as pd\n",
    "import numpy as np\n",
    "from config import fred_key\n",
    "import requests\n",
    "import json\n",
    "import matplotlib.pyplot as plt\n",
    "from pprint import pprint\n",
    "\n"
   ]
  },
  {
   "cell_type": "code",
   "execution_count": 3,
   "id": "c487aa7d",
   "metadata": {},
   "outputs": [],
   "source": [
    "# API Call\n",
    "fred_url = \"https://api.stlouisfed.org/fred/series/observations?\"\n",
    "fred_series_id= 'FEDFUNDS'\n",
    "fred_key= fred_key\n",
    "\n",
    "\n",
    "params = {\"series_id\": fred_series_id, \"apiKey\": fred_key}\n",
    "\n",
    "query_url = f\"{fred_url}series_id={fred_series_id}&api_key={fred_key}&file_type=json\"\n",
    "\n",
    "fred_response = requests.get(query_url, params=params).json()\n",
    "\n"
   ]
  },
  {
   "cell_type": "markdown",
   "id": "7b352e81",
   "metadata": {},
   "source": [
    "## Interest Rate Data Frame"
   ]
  },
  {
   "cell_type": "code",
   "execution_count": 4,
   "id": "750db77d",
   "metadata": {},
   "outputs": [
    {
     "data": {
      "text/html": [
       "<div>\n",
       "<style scoped>\n",
       "    .dataframe tbody tr th:only-of-type {\n",
       "        vertical-align: middle;\n",
       "    }\n",
       "\n",
       "    .dataframe tbody tr th {\n",
       "        vertical-align: top;\n",
       "    }\n",
       "\n",
       "    .dataframe thead th {\n",
       "        text-align: right;\n",
       "    }\n",
       "</style>\n",
       "<table border=\"1\" class=\"dataframe\">\n",
       "  <thead>\n",
       "    <tr style=\"text-align: right;\">\n",
       "      <th></th>\n",
       "      <th>date</th>\n",
       "      <th>value</th>\n",
       "    </tr>\n",
       "  </thead>\n",
       "  <tbody>\n",
       "    <tr>\n",
       "      <th>0</th>\n",
       "      <td>1954-07-01</td>\n",
       "      <td>0.80</td>\n",
       "    </tr>\n",
       "    <tr>\n",
       "      <th>1</th>\n",
       "      <td>1954-08-01</td>\n",
       "      <td>1.22</td>\n",
       "    </tr>\n",
       "    <tr>\n",
       "      <th>2</th>\n",
       "      <td>1954-09-01</td>\n",
       "      <td>1.07</td>\n",
       "    </tr>\n",
       "    <tr>\n",
       "      <th>3</th>\n",
       "      <td>1954-10-01</td>\n",
       "      <td>0.85</td>\n",
       "    </tr>\n",
       "    <tr>\n",
       "      <th>4</th>\n",
       "      <td>1954-11-01</td>\n",
       "      <td>0.83</td>\n",
       "    </tr>\n",
       "    <tr>\n",
       "      <th>...</th>\n",
       "      <td>...</td>\n",
       "      <td>...</td>\n",
       "    </tr>\n",
       "    <tr>\n",
       "      <th>818</th>\n",
       "      <td>2022-09-01</td>\n",
       "      <td>2.56</td>\n",
       "    </tr>\n",
       "    <tr>\n",
       "      <th>819</th>\n",
       "      <td>2022-10-01</td>\n",
       "      <td>3.08</td>\n",
       "    </tr>\n",
       "    <tr>\n",
       "      <th>820</th>\n",
       "      <td>2022-11-01</td>\n",
       "      <td>3.78</td>\n",
       "    </tr>\n",
       "    <tr>\n",
       "      <th>821</th>\n",
       "      <td>2022-12-01</td>\n",
       "      <td>4.10</td>\n",
       "    </tr>\n",
       "    <tr>\n",
       "      <th>822</th>\n",
       "      <td>2023-01-01</td>\n",
       "      <td>4.33</td>\n",
       "    </tr>\n",
       "  </tbody>\n",
       "</table>\n",
       "<p>823 rows × 2 columns</p>\n",
       "</div>"
      ],
      "text/plain": [
       "           date value\n",
       "0    1954-07-01  0.80\n",
       "1    1954-08-01  1.22\n",
       "2    1954-09-01  1.07\n",
       "3    1954-10-01  0.85\n",
       "4    1954-11-01  0.83\n",
       "..          ...   ...\n",
       "818  2022-09-01  2.56\n",
       "819  2022-10-01  3.08\n",
       "820  2022-11-01  3.78\n",
       "821  2022-12-01  4.10\n",
       "822  2023-01-01  4.33\n",
       "\n",
       "[823 rows x 2 columns]"
      ]
     },
     "execution_count": 4,
     "metadata": {},
     "output_type": "execute_result"
    }
   ],
   "source": [
    "int_rate_df = pd.DataFrame(fred_response[\"observations\"])\n",
    "# Reduce to pertinent columns\n",
    "int_rate_df = int_rate_df[[\"date\", \"value\"]]\n",
    "# write a CSV\n",
    "int_rate_df.to_csv(\"output_data/int_rate.csv\")\n",
    "int_rate_df\n"
   ]
  },
  {
   "cell_type": "code",
   "execution_count": null,
   "id": "b14b6b4d",
   "metadata": {},
   "outputs": [],
   "source": [
    "# API Call\n",
    "fred_url = \"https://api.stlouisfed.org/fred/series/observations?\"\n",
    "fred_series_id= 'GDP'\n",
    "fred_key= fred_key\n",
    "\n",
    "\n",
    "params = {\"series_id\": fred_series_id, \"apiKey\": fred_key}\n",
    "\n",
    "query_url = f\"{fred_url}series_id={fred_series_id}&api_key={fred_key}&file_type=json\"\n",
    "fred_response = requests.get(query_url, params=params).json()\n"
   ]
  },
  {
   "cell_type": "markdown",
   "id": "50dc97e9",
   "metadata": {},
   "source": [
    "## GDP Data Frame"
   ]
  },
  {
   "cell_type": "code",
   "execution_count": null,
   "id": "af054d8f",
   "metadata": {},
   "outputs": [],
   "source": [
    "gdp_df = pd.DataFrame(fred_response[\"observations\"])\n",
    "# Reduce to pertinent columns\n",
    "gdp_df = gdp_df[[\"date\", \"value\"]]\n",
    "# write a CSV\n",
    "gdp_df.to_csv(\"output_data/gdp_rate.csv\")\n",
    "gdp_df\n",
    "\n",
    "\n",
    "\n",
    "\n"
   ]
  },
  {
   "cell_type": "code",
   "execution_count": null,
   "id": "ffdad1d3",
   "metadata": {},
   "outputs": [],
   "source": [
    "# API Call\n",
    "fred_url = \"https://api.stlouisfed.org/fred/series/observations?\"\n",
    "fred_series_id= 'UNRATE'\n",
    "fred_key= fred_key\n",
    "\n",
    "\n",
    "params = {\"series_id\": fred_series_id, \"apiKey\": fred_key}\n",
    "\n",
    "query_url = f\"{fred_url}series_id={fred_series_id}&api_key={fred_key}&file_type=json\"\n",
    "fred_response = requests.get(query_url, params=params).json()\n",
    "\n",
    "\n",
    "\n"
   ]
  },
  {
   "cell_type": "markdown",
   "id": "81f16093",
   "metadata": {},
   "source": [
    "## Unemployment Rate Data Frame"
   ]
  },
  {
   "cell_type": "code",
   "execution_count": null,
   "id": "c1bd8530",
   "metadata": {},
   "outputs": [],
   "source": [
    "unemp_df = pd.DataFrame(fred_response[\"observations\"])\n",
    "# Reduce to pertinent columns\n",
    "unemp_df = unemp_df[[\"date\", \"value\"]]\n",
    "# write a CSV\n",
    "unemp_df.to_csv(\"output_data/unemp.csv\")\n",
    "unemp_df\n",
    "\n"
   ]
  },
  {
   "cell_type": "markdown",
   "id": "dac5d8b7",
   "metadata": {},
   "source": [
    "## Merged - Int Rate, Unemp, and GDP"
   ]
  },
  {
   "cell_type": "code",
   "execution_count": null,
   "id": "97ebec0f",
   "metadata": {},
   "outputs": [],
   "source": [
    "merged_int_unemp_gdp_df = pd.merge(pd.merge(int_rate_df, gdp_df, on='date'), unemp_df , on='date')\n",
    "# Rename the columns\n",
    "merged_int_unemp_gdp_df = merged_int_unemp_gdp_df.rename(columns={\"value_x\": \"Interest Rate\", \"value_y\": \"GDP\", \"value\": \"Unemployment Rate\"})\n",
    "# write a CSV\n",
    "merged_int_unemp_gdp_df.to_csv(\"output_data/merged_int_unemp_gdp_df.csv\")\n",
    "merged_int_unemp_gdp_df\n",
    "\n"
   ]
  },
  {
   "cell_type": "markdown",
   "id": "f65f2990",
   "metadata": {},
   "source": [
    "## Merged - Int Rate and GDP"
   ]
  },
  {
   "cell_type": "code",
   "execution_count": null,
   "id": "c001e1bb",
   "metadata": {},
   "outputs": [],
   "source": [
    "merged_int_gdp_df = pd.merge(int_rate_df, gdp_df, on='date')\n",
    "# Rename the columns\n",
    "merged_int_gdp_df = merged_int_gdp_df.rename(columns={\"value_x\": \"Interest Rate\", \"value_y\": \"GDP\", \"value\": \"Unemployment Rate\"})\n",
    "# write a CSV\n",
    "merged_int_gdp_df.to_csv(\"output_data/merged_int_gdp.csv\")\n",
    "merged_int_gdp_df\n",
    "\n",
    "\n",
    "\n"
   ]
  },
  {
   "cell_type": "markdown",
   "id": "83001aed",
   "metadata": {},
   "source": [
    "## Merged - Int Rate and Unemp"
   ]
  },
  {
   "cell_type": "code",
   "execution_count": null,
   "id": "43d5677d",
   "metadata": {},
   "outputs": [],
   "source": [
    "merged_int_unemp_df = pd.merge(int_rate_df, unemp_df, on='date')\n",
    "# Rename the columns\n",
    "merged_int_unemp_df = merged_int_unemp_df.rename(columns={\"value_x\": \"Interest Rate\", \"value_y\": \"Unemployment Rate\"})\n",
    "# write a CSV\n",
    "merged_int_unemp_df.to_csv(\"output_data/merged_int_unemp.csv\")\n",
    "merged_int_unemp_df\n",
    "\n",
    "\n",
    "\n"
   ]
  },
  {
   "cell_type": "code",
   "execution_count": null,
   "id": "8ba60481",
   "metadata": {},
   "outputs": [],
   "source": []
  }
 ],
 "metadata": {
  "kernelspec": {
   "display_name": "PythonData",
   "language": "python",
   "name": "python3"
  },
  "language_info": {
   "codemirror_mode": {
    "name": "ipython",
    "version": 3
   },
   "file_extension": ".py",
   "mimetype": "text/x-python",
   "name": "python",
   "nbconvert_exporter": "python",
   "pygments_lexer": "ipython3",
   "version": "3.7.7"
  },
  "vscode": {
   "interpreter": {
    "hash": "a5387b9da968551e43e0ccab31c37bebadc093c630309dcd510e17231b5b064a"
   }
  }
 },
 "nbformat": 4,
 "nbformat_minor": 5
}
